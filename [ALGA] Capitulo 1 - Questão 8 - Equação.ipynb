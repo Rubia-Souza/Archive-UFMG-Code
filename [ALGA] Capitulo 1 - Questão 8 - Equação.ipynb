{
 "cells": [
  {
   "cell_type": "markdown",
   "id": "1682dc2f",
   "metadata": {},
   "source": [
    "Calcula MDC com algoritmo de Euclides Simples"
   ]
  },
  {
   "cell_type": "code",
   "execution_count": 1,
   "id": "b00826c4",
   "metadata": {},
   "outputs": [],
   "source": [
    "def mdc(a : int, b : int) -> int:\n",
    "    dividendo = max(a, b)\n",
    "    divisor = min(a, b)\n",
    "    resto = dividendo % divisor\n",
    "    \n",
    "    resultado = 1\n",
    "    \n",
    "    while(resto != 0):\n",
    "        dividendo = divisor\n",
    "        divisor = resto\n",
    "        resto = dividendo % divisor\n",
    "        \n",
    "        resultado = divisor\n",
    "        \n",
    "    return resultado"
   ]
  },
  {
   "cell_type": "code",
   "execution_count": 2,
   "id": "bb9f84b2",
   "metadata": {},
   "outputs": [
    {
     "name": "stdout",
     "output_type": "stream",
     "text": [
      "mdc(6643, 2873) = 13\n"
     ]
    }
   ],
   "source": [
    "#valor1 = int(input())\n",
    "valor1 = 6643\n",
    "\n",
    "#valor2 = int(input())\n",
    "valor2 = 2873\n",
    "\n",
    "print(f\"mdc({valor1}, {valor2}) = {mdc(valor1, valor2)}\")"
   ]
  },
  {
   "cell_type": "markdown",
   "id": "b7fae812",
   "metadata": {},
   "source": [
    "Utilizando algoritmo de Euclides Estendido, calcula coeficientes de:\n",
    "\n",
    "        a * alfa + b * beta = mdc(a, b)"
   ]
  },
  {
   "cell_type": "code",
   "execution_count": 3,
   "id": "8b572b8a",
   "metadata": {},
   "outputs": [],
   "source": [
    "class Linha:\n",
    "    def __init__(self, quociente, dividendo, divisor, resto, x, y):\n",
    "        self.quociente = quociente\n",
    "        self.dividendo = dividendo\n",
    "        self.divisor = divisor\n",
    "        self.resto = resto\n",
    "        self.x = x\n",
    "        self.y = y\n",
    "        \n",
    "    def get_info(self):\n",
    "        return f\" Quociente: {self.quociente}\\n Dividendo: {self.dividendo}\\n Divisor: {self.divisor} \\n Resto: {self.resto} \\n X: {self.x} \\n Y: {self.y}\"\n",
    "\n",
    "\n",
    "def euclides_estendido(a : int, b : int) -> (int, int):\n",
    "    maior = max(a, b)\n",
    "    menor = min(a, b)\n",
    "    \n",
    "    linha1 = Linha(-1, maior, -1, -1, 1, 0)\n",
    "    linha2 = Linha(-1, menor, maior, menor, 0, 1)\n",
    "    \n",
    "    while True:\n",
    "        dividendo = linha2.divisor\n",
    "        divisor = linha2.resto\n",
    "        quociente = int(dividendo / divisor)\n",
    "        resto = dividendo % divisor\n",
    "\n",
    "        x = linha1.x - (quociente * linha2.x)\n",
    "        y = linha1.y - (quociente * linha2.y)\n",
    "\n",
    "        linhaAtual = Linha(quociente, dividendo, divisor, resto, x, y)\n",
    "\n",
    "        if(linhaAtual.resto == 0):\n",
    "            break\n",
    "    \n",
    "        linha1 = linha2\n",
    "        linha2 = linhaAtual\n",
    "    \n",
    "    return (linha2.x, linha2.y)"
   ]
  },
  {
   "cell_type": "code",
   "execution_count": 4,
   "id": "6509d9d4",
   "metadata": {
    "scrolled": true
   },
   "outputs": [
    {
     "name": "stdout",
     "output_type": "stream",
     "text": [
      "Coeficiente alfa: -16, Coeficiente beta: 37\n",
      "(6643 * -16) + (2873 * 37) = 13\n"
     ]
    }
   ],
   "source": [
    "#valor1 = int(input())\n",
    "valor1 = 6643\n",
    "\n",
    "#valor2 = int(input())\n",
    "valor2 = 2873\n",
    "\n",
    "alfa, beta = euclides_estendido(valor1, valor2)\n",
    "resultado_mdc = (valor1 * alfa) + (valor2 * beta)\n",
    "\n",
    "print(f\"Coeficiente alfa: {alfa}, Coeficiente beta: {beta}\")\n",
    "print(f\"({valor1} * {alfa}) + ({valor2} * {beta}) = {resultado_mdc}\")"
   ]
  },
  {
   "cell_type": "markdown",
   "id": "129e0c95",
   "metadata": {},
   "source": [
    "Calcula a equação:\n",
    "\n",
    "        a * x + b * y = c\n",
    "        \n",
    "Pelo fato de que:\n",
    "\n",
    "        c' = c / d\n",
    "        x = c' * alfa\n",
    "        y = c' * beta"
   ]
  },
  {
   "cell_type": "code",
   "execution_count": 5,
   "id": "b2578e11",
   "metadata": {},
   "outputs": [],
   "source": [
    "def solucao_equacao(a : int, b : int, c : int) -> (int, int):\n",
    "    alfa, beta = euclides_estendido(a, b)\n",
    "    resultado_mdc = (a * alfa) + (b * beta)\n",
    "    \n",
    "    c_reduzido = c / resultado_mdc\n",
    "    \n",
    "    x = c_reduzido * alfa\n",
    "    y = c_reduzido * beta\n",
    "    \n",
    "    return (x, y)"
   ]
  },
  {
   "cell_type": "code",
   "execution_count": 6,
   "id": "8a4b825f",
   "metadata": {},
   "outputs": [
    {
     "name": "stdout",
     "output_type": "stream",
     "text": [
      "1468103.0\n",
      "Valor de (x,y) para: 6643 * x + 2873 * y = 19085339\n",
      "x = -23489648.0\n",
      "y = 54319811.0\n"
     ]
    }
   ],
   "source": [
    "#valor1 = int(input())\n",
    "valorA = 6643\n",
    "\n",
    "#valor2 = int(input())\n",
    "valorB = 2873\n",
    "\n",
    "#valorC = int(input())\n",
    "valorC = 2873 * 6643\n",
    "\n",
    "(x, y) = solucao_equacao(valorA, valorB, valorC)\n",
    "\n",
    "print(f\"Valor de (x,y) para: {valorA} * x + {valorB} * y = {valorC}\")\n",
    "print(f\"x = {x}\")\n",
    "print(f\"y = {y}\")"
   ]
  },
  {
   "cell_type": "code",
   "execution_count": null,
   "id": "9d0621ef",
   "metadata": {},
   "outputs": [],
   "source": []
  }
 ],
 "metadata": {
  "kernelspec": {
   "display_name": "Python 3 (ipykernel)",
   "language": "python",
   "name": "python3"
  },
  "language_info": {
   "codemirror_mode": {
    "name": "ipython",
    "version": 3
   },
   "file_extension": ".py",
   "mimetype": "text/x-python",
   "name": "python",
   "nbconvert_exporter": "python",
   "pygments_lexer": "ipython3",
   "version": "3.11.4"
  }
 },
 "nbformat": 4,
 "nbformat_minor": 5
}

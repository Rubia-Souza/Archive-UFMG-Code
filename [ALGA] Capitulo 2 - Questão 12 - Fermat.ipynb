{
 "cells": [
  {
   "cell_type": "code",
   "execution_count": 41,
   "id": "1379ca61",
   "metadata": {},
   "outputs": [],
   "source": [
    "import math\n",
    "\n",
    "def Eh_Primo(n : int) -> bool:\n",
    "    if(n % 2 == 0):\n",
    "        return False\n",
    "    \n",
    "    x = math.floor(math.sqrt(n))\n",
    "    \n",
    "    if(x * x == n):\n",
    "        return False\n",
    "    \n",
    "    while True:\n",
    "        x = x + 1\n",
    "        y = math.sqrt((x * x - n))\n",
    "\n",
    "        if(x == (n+1)/2):\n",
    "            return True\n",
    "        \n",
    "        if(y.is_integer()):\n",
    "            return False"
   ]
  },
  {
   "cell_type": "code",
   "execution_count": 42,
   "id": "870b7d56",
   "metadata": {},
   "outputs": [
    {
     "name": "stdout",
     "output_type": "stream",
     "text": [
      "7\n"
     ]
    },
    {
     "data": {
      "text/plain": [
       "True"
      ]
     },
     "execution_count": 42,
     "metadata": {},
     "output_type": "execute_result"
    }
   ],
   "source": [
    "valor = int(input())\n",
    "\n",
    "if(Eh_Primo(valor)):\n",
    "    print(f\"O valor {valor} é primo\")\n",
    "else:\n",
    "    print(f\"O valor {valor} não é primo\")"
   ]
  },
  {
   "cell_type": "code",
   "execution_count": 49,
   "id": "6762624e",
   "metadata": {},
   "outputs": [],
   "source": [
    "def Fatores(n : int) -> (int, int):\n",
    "    if(n % 2 == 0): # Número não é primo, pois é um multiplo de 2. n = 2 * k. Ex.: 6\n",
    "        return (2, n / 2)\n",
    "    \n",
    "    x = math.floor(math.sqrt(n))\n",
    "    \n",
    "    if(x * x == n): # Número não é primo, pois seus fatores são (x, x), pois n = x * x. Ex.: 169\n",
    "        return (x, x)\n",
    "    \n",
    "    while True:\n",
    "        x = x + 1\n",
    "        y = math.sqrt((x * x) - n)\n",
    "        \n",
    "        if(x == (n+1)/2): # Número é primo\n",
    "            return None\n",
    "        \n",
    "        if(y.is_integer()): # Número é primo e pode ser fatorado em: n = (x - y) * (x + y). Ex.: 1923\n",
    "            return (x - y, x + y)"
   ]
  },
  {
   "cell_type": "code",
   "execution_count": 50,
   "id": "8ec91944",
   "metadata": {},
   "outputs": [
    {
     "name": "stdout",
     "output_type": "stream",
     "text": [
      "O número 6 não é primo, pois pode ser fatorado em: (2, 3.0)\n",
      "O número 169 não é primo, pois pode ser fatorado em: (13, 13)\n",
      "O número 1923 não é primo, pois pode ser fatorado em: (3.0, 641.0)\n",
      "O número 7 é primo: None\n"
     ]
    }
   ],
   "source": [
    "print(f\"O número 6 não é primo, pois pode ser fatorado em: {Fatores(6)}\")\n",
    "print(f\"O número 169 não é primo, pois pode ser fatorado em: {Fatores(169)}\")\n",
    "print(f\"O número 1923 não é primo, pois pode ser fatorado em: {Fatores(1923)}\")\n",
    "print(f\"O número 7 é primo: {Fatores(7)}\")"
   ]
  },
  {
   "cell_type": "code",
   "execution_count": 58,
   "id": "6c35fb5b",
   "metadata": {},
   "outputs": [
    {
     "name": "stdout",
     "output_type": "stream",
     "text": [
      "169\n",
      "O valor 169 pode ser fatorado em: 13 * 13\n"
     ]
    }
   ],
   "source": [
    "valor = int(input())\n",
    "\n",
    "restultado = Fatores(valor)\n",
    "\n",
    "if(restultado == None):\n",
    "    print(f\"O valor {valor} é primo\")\n",
    "else:\n",
    "    print(f\"O valor {valor} pode ser fatorado em: {restultado[0]} * {restultado[1]}\")\n"
   ]
  },
  {
   "cell_type": "code",
   "execution_count": null,
   "id": "3acaa566",
   "metadata": {},
   "outputs": [],
   "source": []
  }
 ],
 "metadata": {
  "kernelspec": {
   "display_name": "Python 3 (ipykernel)",
   "language": "python",
   "name": "python3"
  },
  "language_info": {
   "codemirror_mode": {
    "name": "ipython",
    "version": 3
   },
   "file_extension": ".py",
   "mimetype": "text/x-python",
   "name": "python",
   "nbconvert_exporter": "python",
   "pygments_lexer": "ipython3",
   "version": "3.11.4"
  }
 },
 "nbformat": 4,
 "nbformat_minor": 5
}

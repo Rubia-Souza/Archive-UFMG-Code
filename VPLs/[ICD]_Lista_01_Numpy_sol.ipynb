{
  "cells": [
    {
      "cell_type": "markdown",
      "metadata": {
        "id": "66Fodgh2IdEI"
      },
      "source": [
        "# Lista 01 - Introdução e Revisão Numpy\n",
        "\n",
        "[NumPy](http://numpy.org) é um pacote incrivelmente poderoso em Python, onipresente em qualquer projeto de ciência de dados. Possui forte integração com o [Pandas](http://pandas.pydata.org), outra ferramenta que iremos abordar na matéria. NumPy adiciona suporte para matrizes multidimensionais e funções matemáticas que permitem que você execute facilmente cálculos de álgebra linear. Este notebook será uma coleção de exemplos de álgebra linear computados usando NumPy.\n",
        "\n",
        "## Numpy\n",
        "\n",
        "Para fazer uso de Numpy precisamos importar a biblioteca"
      ]
    },
    {
      "cell_type": "code",
      "execution_count": null,
      "metadata": {
        "id": "g-Ev10MfIdEK"
      },
      "outputs": [],
      "source": [
        "# -*- coding: utf8\n",
        "\n",
        "import numpy as np"
      ]
    },
    {
      "cell_type": "markdown",
      "metadata": {
        "id": "NuWOK25VIdEL"
      },
      "source": [
        "Quando pensamos no lado prático de ciência de dados, um aspecto chave que ajuda na implementação de novos algoritmos é a vetorização. De forma simples, vetorização consiste do uso de tipos como **escalar**, **vetor** e **matriz** para realizar uma computação mais eficaz (em tempo de execução).\n",
        "\n",
        "Uma matriz é uma coleção de valores, normalmente representada por uma grade 𝑚 × 𝑛, onde 𝑚 é o número de linhas e 𝑛 é o número de colunas. Os comprimentos das arestas 𝑚 e 𝑛 não precisam ser necessariamente diferentes. Se tivermos 𝑚 = 𝑛, chamamos isso de matriz quadrada. Um caso particularmente interessante de uma matriz é quando 𝑚 = 1 ou 𝑛 = 1. Nesse caso, temos um caso especial de uma matriz que chamamos de vetor. Embora haja um objeto de matriz em NumPy, faremos tudo usando matrizes NumPy porque elas podem ter dimensões maiores que 2.\n",
        "\n",
        "1. **Escalar:** Um vetor de zero dimensões"
      ]
    },
    {
      "cell_type": "code",
      "execution_count": null,
      "metadata": {
        "id": "WPP5rAOrIdEN",
        "outputId": "920506ac-52f4-4140-cfe2-d8ddcc329e5b",
        "colab": {
          "base_uri": "https://localhost:8080/"
        }
      },
      "outputs": [
        {
          "output_type": "execute_result",
          "data": {
            "text/plain": [
              "1"
            ]
          },
          "metadata": {},
          "execution_count": 2
        }
      ],
      "source": [
        "1"
      ]
    },
    {
      "cell_type": "code",
      "execution_count": null,
      "metadata": {
        "id": "injMz0vSIdEO",
        "outputId": "28371432-2f7b-4460-cfa3-c723b1a11c66",
        "colab": {
          "base_uri": "https://localhost:8080/"
        }
      },
      "outputs": [
        {
          "output_type": "execute_result",
          "data": {
            "text/plain": [
              "array(1)"
            ]
          },
          "metadata": {},
          "execution_count": 3
        }
      ],
      "source": [
        "np.array(1)"
      ]
    },
    {
      "cell_type": "markdown",
      "metadata": {
        "id": "QIjyJYmFIdEP"
      },
      "source": [
        "2. **Vetor:** Representa uma dimensão"
      ]
    },
    {
      "cell_type": "markdown",
      "metadata": {
        "id": "OIWMzV9pIdEP"
      },
      "source": [
        "Abaixo vamos criar um vetor simples. Inicialmente, vamos criar uma lista."
      ]
    },
    {
      "cell_type": "code",
      "execution_count": null,
      "metadata": {
        "id": "ICE6Bu56IdEP"
      },
      "outputs": [],
      "source": [
        "data_list = [3.5, 5, 2, 8, 4.2]"
      ]
    },
    {
      "cell_type": "markdown",
      "metadata": {
        "id": "qORHqx62IdEQ"
      },
      "source": [
        "Observe o tipo da mesma."
      ]
    },
    {
      "cell_type": "code",
      "execution_count": null,
      "metadata": {
        "id": "1Fv0RlmSIdEQ",
        "outputId": "9dfc66f9-655c-46af-b127-84f6d6ab770a",
        "colab": {
          "base_uri": "https://localhost:8080/"
        }
      },
      "outputs": [
        {
          "output_type": "execute_result",
          "data": {
            "text/plain": [
              "list"
            ]
          },
          "metadata": {},
          "execution_count": 5
        }
      ],
      "source": [
        "type(data_list)"
      ]
    },
    {
      "cell_type": "markdown",
      "metadata": {
        "id": "MT47DMZVIdER"
      },
      "source": [
        "Embora vetores e listas sejam parecidos, vetores Numpy são otimizados para operações de Álgebra Linear. Ciência de Dados faz bastante uso de tais operações, sendo este um dos motivos da dependência em Numpy.\n",
        "\n",
        "Abaixo criamos um vetor."
      ]
    },
    {
      "cell_type": "code",
      "execution_count": null,
      "metadata": {
        "id": "7fjG9GAmIdER",
        "outputId": "9b24d373-f2e2-4735-d658-31aad4c15b74",
        "colab": {
          "base_uri": "https://localhost:8080/"
        }
      },
      "outputs": [
        {
          "output_type": "stream",
          "name": "stdout",
          "text": [
            "[3.5 5.  2.  8.  4.2]\n",
            "<class 'numpy.ndarray'>\n"
          ]
        }
      ],
      "source": [
        "data = np.array(data_list)\n",
        "print(data)\n",
        "print(type(data))"
      ]
    },
    {
      "cell_type": "markdown",
      "metadata": {
        "id": "g85LhtNRIdES"
      },
      "source": [
        "Observe como podemos somar o mesmo com um número. Não é possível fazer tal operação com listas."
      ]
    },
    {
      "cell_type": "code",
      "execution_count": null,
      "metadata": {
        "id": "VldAG0fyIdES",
        "outputId": "7b355d66-8cc5-400a-8258-4a3da8a64d0d",
        "colab": {
          "base_uri": "https://localhost:8080/"
        }
      },
      "outputs": [
        {
          "output_type": "execute_result",
          "data": {
            "text/plain": [
              "array([10.5, 12. ,  9. , 15. , 11.2])"
            ]
          },
          "metadata": {},
          "execution_count": 7
        }
      ],
      "source": [
        "data + 7"
      ]
    },
    {
      "cell_type": "markdown",
      "metadata": {
        "id": "0OZOXgz2IdES"
      },
      "source": [
        "3. **Matrizes:** Representam duas dimensões."
      ]
    },
    {
      "cell_type": "code",
      "execution_count": null,
      "metadata": {
        "id": "YGpSXRyoIdES",
        "outputId": "ae897a68-1533-4a2b-d2e5-a0ade399193a",
        "colab": {
          "base_uri": "https://localhost:8080/"
        }
      },
      "outputs": [
        {
          "output_type": "execute_result",
          "data": {
            "text/plain": [
              "array([[2, 4],\n",
              "       [1, 3]])"
            ]
          },
          "metadata": {},
          "execution_count": 8
        }
      ],
      "source": [
        "X = np.array([[2, 4],\n",
        "              [1, 3]])\n",
        "X"
      ]
    },
    {
      "cell_type": "markdown",
      "metadata": {
        "id": "57fT56NQIdET"
      },
      "source": [
        "Podemos indexar as matrizes e os vetores."
      ]
    },
    {
      "cell_type": "code",
      "execution_count": null,
      "metadata": {
        "id": "fwcxOzDXIdET",
        "outputId": "5d63daca-6cc6-4734-9539-10273dea94e8",
        "colab": {
          "base_uri": "https://localhost:8080/"
        }
      },
      "outputs": [
        {
          "output_type": "execute_result",
          "data": {
            "text/plain": [
              "3.5"
            ]
          },
          "metadata": {},
          "execution_count": 9
        }
      ],
      "source": [
        "data[0]"
      ]
    },
    {
      "cell_type": "code",
      "execution_count": null,
      "metadata": {
        "id": "ROv_xbl4IdET",
        "outputId": "b376a49f-8139-48db-db0e-72b0840efe7f",
        "colab": {
          "base_uri": "https://localhost:8080/"
        }
      },
      "outputs": [
        {
          "output_type": "execute_result",
          "data": {
            "text/plain": [
              "4"
            ]
          },
          "metadata": {},
          "execution_count": 10
        }
      ],
      "source": [
        "X[0, 1] # aqui é primeira linha, segunda coluna"
      ]
    },
    {
      "cell_type": "markdown",
      "metadata": {
        "id": "Z2j3RGxOIdET"
      },
      "source": [
        "Podemos também criar vetores/matrizes de números aleatórios"
      ]
    },
    {
      "cell_type": "code",
      "execution_count": null,
      "metadata": {
        "id": "_QmQmLKrIdEU",
        "outputId": "a85c8fe0-a1fa-4957-a034-56832592c906",
        "colab": {
          "base_uri": "https://localhost:8080/"
        }
      },
      "outputs": [
        {
          "output_type": "stream",
          "name": "stdout",
          "text": [
            "[[ 0.04922215  0.60880624 -0.48322043]\n",
            " [ 0.90853216 -0.54705223  1.84194588]\n",
            " [ 0.11133555 -0.13316408 -1.60527379]\n",
            " [ 0.2333475  -2.18871806 -0.25646824]]\n"
          ]
        }
      ],
      "source": [
        "X = np.random.randn(4, 3) # Gera números aleatórios de uma normal\n",
        "print(X)"
      ]
    },
    {
      "cell_type": "markdown",
      "metadata": {
        "id": "sjd3h5YdIdEU"
      },
      "source": [
        "### Indexando\n",
        "\n",
        "Pegando a primeira linha"
      ]
    },
    {
      "cell_type": "code",
      "execution_count": null,
      "metadata": {
        "id": "qCysSHSFIdEU",
        "outputId": "c73f667b-6ad5-4d08-eb1a-c2ab86679447",
        "colab": {
          "base_uri": "https://localhost:8080/"
        }
      },
      "outputs": [
        {
          "output_type": "execute_result",
          "data": {
            "text/plain": [
              "array([ 0.04922215,  0.60880624, -0.48322043])"
            ]
          },
          "metadata": {},
          "execution_count": 12
        }
      ],
      "source": [
        "X[0] # observe que 0 é a linha 1, compare com o X[0, 1] de antes."
      ]
    },
    {
      "cell_type": "code",
      "execution_count": null,
      "metadata": {
        "id": "bNsoE3W4IdEU",
        "outputId": "4e0e2a7d-3f38-487c-e626-5b73060dc186",
        "colab": {
          "base_uri": "https://localhost:8080/"
        }
      },
      "outputs": [
        {
          "output_type": "execute_result",
          "data": {
            "text/plain": [
              "array([ 0.90853216, -0.54705223,  1.84194588])"
            ]
          },
          "metadata": {},
          "execution_count": 13
        }
      ],
      "source": [
        "X[1] # segunda"
      ]
    },
    {
      "cell_type": "code",
      "execution_count": null,
      "metadata": {
        "id": "jd5VpgWfIdEV",
        "outputId": "2b741ceb-e013-47ef-a310-271d30f5d18c",
        "colab": {
          "base_uri": "https://localhost:8080/"
        }
      },
      "outputs": [
        {
          "output_type": "execute_result",
          "data": {
            "text/plain": [
              "array([ 0.11133555, -0.13316408, -1.60527379])"
            ]
          },
          "metadata": {},
          "execution_count": 14
        }
      ],
      "source": [
        "X[2] # terceira"
      ]
    },
    {
      "cell_type": "markdown",
      "metadata": {
        "id": "Lcy0oJoVIdEV"
      },
      "source": [
        "Observe como todos os tipos retornados são `array`. Array é o nome genérico de Numpy para vetores e matrizes."
      ]
    },
    {
      "cell_type": "markdown",
      "metadata": {
        "id": "TLh8W4z_IdEV"
      },
      "source": [
        "`X[:, c]` pega uma coluna"
      ]
    },
    {
      "cell_type": "code",
      "execution_count": null,
      "metadata": {
        "id": "qUzCMlkjIdEV",
        "outputId": "f23a85e9-fc6a-42d0-8f92-d27999f17b6d",
        "colab": {
          "base_uri": "https://localhost:8080/"
        }
      },
      "outputs": [
        {
          "output_type": "execute_result",
          "data": {
            "text/plain": [
              "array([0.04922215, 0.90853216, 0.11133555, 0.2333475 ])"
            ]
          },
          "metadata": {},
          "execution_count": 15
        }
      ],
      "source": [
        "X[:, 0]"
      ]
    },
    {
      "cell_type": "code",
      "execution_count": null,
      "metadata": {
        "id": "n0BEcL7ZIdEW",
        "outputId": "f9b98ec7-d244-4a23-c129-485b4b89414a",
        "colab": {
          "base_uri": "https://localhost:8080/"
        }
      },
      "outputs": [
        {
          "output_type": "execute_result",
          "data": {
            "text/plain": [
              "array([ 0.60880624, -0.54705223, -0.13316408, -2.18871806])"
            ]
          },
          "metadata": {},
          "execution_count": 16
        }
      ],
      "source": [
        "X[:, 1]"
      ]
    },
    {
      "cell_type": "markdown",
      "metadata": {
        "id": "Rqdw1OU9IdEW"
      },
      "source": [
        "`X[um_vetor]` pega as linhas da matriz. `X[:, um_vetor]` pega as colunas"
      ]
    },
    {
      "cell_type": "code",
      "execution_count": null,
      "metadata": {
        "id": "7idEi5TRIdEX",
        "outputId": "2cfb651a-5a14-475b-c399-5a8a8ff8011b",
        "colab": {
          "base_uri": "https://localhost:8080/"
        }
      },
      "outputs": [
        {
          "output_type": "execute_result",
          "data": {
            "text/plain": [
              "array([[ 0.04922215,  0.60880624, -0.48322043],\n",
              "       [ 0.04922215,  0.60880624, -0.48322043],\n",
              "       [ 0.90853216, -0.54705223,  1.84194588]])"
            ]
          },
          "metadata": {},
          "execution_count": 17
        }
      ],
      "source": [
        "X[[0, 0, 1]] # observe que pego a primeira linha, indexada por 0, duas vezes"
      ]
    },
    {
      "cell_type": "markdown",
      "metadata": {
        "id": "F8vAH3xpIdEX"
      },
      "source": [
        "Abaixo pego a segunda a primeira coluna"
      ]
    },
    {
      "cell_type": "code",
      "execution_count": null,
      "metadata": {
        "id": "2GDdPVcNIdEX",
        "outputId": "9d540876-9d25-4e0f-ae75-98af8055012f",
        "colab": {
          "base_uri": "https://localhost:8080/"
        }
      },
      "outputs": [
        {
          "output_type": "execute_result",
          "data": {
            "text/plain": [
              "array([[ 0.60880624,  0.04922215],\n",
              "       [-0.54705223,  0.90853216],\n",
              "       [-0.13316408,  0.11133555],\n",
              "       [-2.18871806,  0.2333475 ]])"
            ]
          },
          "metadata": {},
          "execution_count": 18
        }
      ],
      "source": [
        "X[:, [1, 0]]"
      ]
    },
    {
      "cell_type": "markdown",
      "metadata": {
        "id": "Uic06C97IdEX"
      },
      "source": [
        "### Indexação Booleana\n",
        "\n",
        "`X[vetor_booleano]` retorna as linhas (ou colunas quando X[:, vetor_booleano]) onde o vetor é true"
      ]
    },
    {
      "cell_type": "code",
      "execution_count": null,
      "metadata": {
        "id": "RsIAJJvcIdEX",
        "outputId": "8108c2b9-6c33-4936-9499-2dc1b5e19eb1",
        "colab": {
          "base_uri": "https://localhost:8080/"
        }
      },
      "outputs": [
        {
          "output_type": "execute_result",
          "data": {
            "text/plain": [
              "array([[ 0.04922215,  0.60880624, -0.48322043],\n",
              "       [ 0.11133555, -0.13316408, -1.60527379]])"
            ]
          },
          "metadata": {},
          "execution_count": 19
        }
      ],
      "source": [
        "X[[True, False, True, False]]"
      ]
    },
    {
      "cell_type": "code",
      "execution_count": null,
      "metadata": {
        "id": "ZouqP3VpIdEX",
        "outputId": "f6d18d76-37a8-43da-cb7a-283970b26898",
        "colab": {
          "base_uri": "https://localhost:8080/"
        }
      },
      "outputs": [
        {
          "output_type": "execute_result",
          "data": {
            "text/plain": [
              "array([[ 0.60880624, -0.48322043],\n",
              "       [-0.54705223,  1.84194588],\n",
              "       [-0.13316408, -1.60527379],\n",
              "       [-2.18871806, -0.25646824]])"
            ]
          },
          "metadata": {},
          "execution_count": 20
        }
      ],
      "source": [
        "X[:, [False, True, True]]"
      ]
    },
    {
      "cell_type": "markdown",
      "metadata": {
        "id": "QoDqB1G5IdEY"
      },
      "source": [
        "### Reshape, Flatten e Ravel\n",
        "\n",
        "Todo vetor ou matriz pode ser redimensionado. Observe como uma matriz abaixo de 9x8=72 elementos. Podemos redimensionar os mesmos para outros arrays de tamanho 72."
      ]
    },
    {
      "cell_type": "code",
      "execution_count": null,
      "metadata": {
        "id": "LNwtlwoYIdEY"
      },
      "outputs": [],
      "source": [
        "X = np.random.randn(9, 8)"
      ]
    },
    {
      "cell_type": "markdown",
      "metadata": {
        "id": "AD5kdV1KIdEY"
      },
      "source": [
        "Criando uma matriz de 18x4."
      ]
    },
    {
      "cell_type": "code",
      "execution_count": null,
      "metadata": {
        "id": "6yVQ7NArIdEY",
        "outputId": "715329fa-d1a8-4bce-acff-c12a69b0189b",
        "colab": {
          "base_uri": "https://localhost:8080/"
        }
      },
      "outputs": [
        {
          "output_type": "execute_result",
          "data": {
            "text/plain": [
              "array([[-0.48412121,  1.89023282, -1.45222177,  1.00545304],\n",
              "       [-1.03399653,  0.27537426,  0.44592195, -0.04736256],\n",
              "       [ 0.0823764 ,  1.12402785, -1.46798405,  1.74720044],\n",
              "       [ 2.26206604, -0.86773209,  0.08412199, -0.86555049],\n",
              "       [-0.86283075,  0.58351953, -0.54437176, -1.46957357],\n",
              "       [ 0.21011821,  0.09173515, -0.98030062,  0.63586016],\n",
              "       [-0.93360353,  0.92055908,  1.89931339,  0.07796473],\n",
              "       [-0.94672213,  0.58077404,  0.19185721, -0.67368398],\n",
              "       [-0.05019709, -0.2522186 ,  2.21159409, -1.07719226],\n",
              "       [-0.83950815, -1.67905948,  0.94737533,  0.81684778],\n",
              "       [-0.24835654, -0.99997204,  1.38550131, -0.67385799],\n",
              "       [ 0.64381741,  0.89896071, -0.91069604,  1.20704977],\n",
              "       [ 2.36074319,  0.517831  ,  0.98811431, -3.47540751],\n",
              "       [-0.37815458, -0.9047609 ,  0.31109758,  0.1511039 ],\n",
              "       [-0.89644286,  0.53084702, -0.55514935, -1.36643482],\n",
              "       [ 0.94076063, -0.21437519, -0.17314722, -1.53978308],\n",
              "       [ 0.53747308,  0.57465116,  1.90922654,  0.05717219],\n",
              "       [-0.00553008,  1.24382197,  1.57566259, -1.21627365]])"
            ]
          },
          "metadata": {},
          "execution_count": 22
        }
      ],
      "source": [
        "X.reshape((18, 4))"
      ]
    },
    {
      "cell_type": "markdown",
      "metadata": {
        "id": "92VQvbxDIdEZ"
      },
      "source": [
        "Ou um vetor de 72"
      ]
    },
    {
      "cell_type": "code",
      "execution_count": null,
      "metadata": {
        "id": "KQC32WCVIdEc",
        "outputId": "b0b03e9f-65d9-4710-faf6-8c9c094d6ae2",
        "colab": {
          "base_uri": "https://localhost:8080/"
        }
      },
      "outputs": [
        {
          "output_type": "execute_result",
          "data": {
            "text/plain": [
              "array([-0.48412121,  1.89023282, -1.45222177,  1.00545304, -1.03399653,\n",
              "        0.27537426,  0.44592195, -0.04736256,  0.0823764 ,  1.12402785,\n",
              "       -1.46798405,  1.74720044,  2.26206604, -0.86773209,  0.08412199,\n",
              "       -0.86555049, -0.86283075,  0.58351953, -0.54437176, -1.46957357,\n",
              "        0.21011821,  0.09173515, -0.98030062,  0.63586016, -0.93360353,\n",
              "        0.92055908,  1.89931339,  0.07796473, -0.94672213,  0.58077404,\n",
              "        0.19185721, -0.67368398, -0.05019709, -0.2522186 ,  2.21159409,\n",
              "       -1.07719226, -0.83950815, -1.67905948,  0.94737533,  0.81684778,\n",
              "       -0.24835654, -0.99997204,  1.38550131, -0.67385799,  0.64381741,\n",
              "        0.89896071, -0.91069604,  1.20704977,  2.36074319,  0.517831  ,\n",
              "        0.98811431, -3.47540751, -0.37815458, -0.9047609 ,  0.31109758,\n",
              "        0.1511039 , -0.89644286,  0.53084702, -0.55514935, -1.36643482,\n",
              "        0.94076063, -0.21437519, -0.17314722, -1.53978308,  0.53747308,\n",
              "        0.57465116,  1.90922654,  0.05717219, -0.00553008,  1.24382197,\n",
              "        1.57566259, -1.21627365])"
            ]
          },
          "metadata": {},
          "execution_count": 23
        }
      ],
      "source": [
        "X.reshape(72)"
      ]
    },
    {
      "cell_type": "markdown",
      "metadata": {
        "id": "t6zZwkgAIdEc"
      },
      "source": [
        "A chamada flatten e ravel faz a mesma coisa, criam uma visão de uma dimensão da matriz."
      ]
    },
    {
      "cell_type": "code",
      "execution_count": null,
      "metadata": {
        "id": "4JHvIatlIdEd",
        "outputId": "0b7b238f-de00-43ec-de15-dd15061a00a7",
        "colab": {
          "base_uri": "https://localhost:8080/"
        }
      },
      "outputs": [
        {
          "output_type": "execute_result",
          "data": {
            "text/plain": [
              "array([-0.48412121,  1.89023282, -1.45222177,  1.00545304, -1.03399653,\n",
              "        0.27537426,  0.44592195, -0.04736256,  0.0823764 ,  1.12402785,\n",
              "       -1.46798405,  1.74720044,  2.26206604, -0.86773209,  0.08412199,\n",
              "       -0.86555049, -0.86283075,  0.58351953, -0.54437176, -1.46957357,\n",
              "        0.21011821,  0.09173515, -0.98030062,  0.63586016, -0.93360353,\n",
              "        0.92055908,  1.89931339,  0.07796473, -0.94672213,  0.58077404,\n",
              "        0.19185721, -0.67368398, -0.05019709, -0.2522186 ,  2.21159409,\n",
              "       -1.07719226, -0.83950815, -1.67905948,  0.94737533,  0.81684778,\n",
              "       -0.24835654, -0.99997204,  1.38550131, -0.67385799,  0.64381741,\n",
              "        0.89896071, -0.91069604,  1.20704977,  2.36074319,  0.517831  ,\n",
              "        0.98811431, -3.47540751, -0.37815458, -0.9047609 ,  0.31109758,\n",
              "        0.1511039 , -0.89644286,  0.53084702, -0.55514935, -1.36643482,\n",
              "        0.94076063, -0.21437519, -0.17314722, -1.53978308,  0.53747308,\n",
              "        0.57465116,  1.90922654,  0.05717219, -0.00553008,  1.24382197,\n",
              "        1.57566259, -1.21627365])"
            ]
          },
          "metadata": {},
          "execution_count": 24
        }
      ],
      "source": [
        "X.flatten()"
      ]
    },
    {
      "cell_type": "code",
      "execution_count": null,
      "metadata": {
        "id": "aMTAWvgEIdEd",
        "outputId": "76b91a53-31de-41aa-a1a6-d641221148d9",
        "colab": {
          "base_uri": "https://localhost:8080/"
        }
      },
      "outputs": [
        {
          "output_type": "execute_result",
          "data": {
            "text/plain": [
              "array([-0.48412121,  1.89023282, -1.45222177,  1.00545304, -1.03399653,\n",
              "        0.27537426,  0.44592195, -0.04736256,  0.0823764 ,  1.12402785,\n",
              "       -1.46798405,  1.74720044,  2.26206604, -0.86773209,  0.08412199,\n",
              "       -0.86555049, -0.86283075,  0.58351953, -0.54437176, -1.46957357,\n",
              "        0.21011821,  0.09173515, -0.98030062,  0.63586016, -0.93360353,\n",
              "        0.92055908,  1.89931339,  0.07796473, -0.94672213,  0.58077404,\n",
              "        0.19185721, -0.67368398, -0.05019709, -0.2522186 ,  2.21159409,\n",
              "       -1.07719226, -0.83950815, -1.67905948,  0.94737533,  0.81684778,\n",
              "       -0.24835654, -0.99997204,  1.38550131, -0.67385799,  0.64381741,\n",
              "        0.89896071, -0.91069604,  1.20704977,  2.36074319,  0.517831  ,\n",
              "        0.98811431, -3.47540751, -0.37815458, -0.9047609 ,  0.31109758,\n",
              "        0.1511039 , -0.89644286,  0.53084702, -0.55514935, -1.36643482,\n",
              "        0.94076063, -0.21437519, -0.17314722, -1.53978308,  0.53747308,\n",
              "        0.57465116,  1.90922654,  0.05717219, -0.00553008,  1.24382197,\n",
              "        1.57566259, -1.21627365])"
            ]
          },
          "metadata": {},
          "execution_count": 25
        }
      ],
      "source": [
        "X.ravel()"
      ]
    },
    {
      "cell_type": "markdown",
      "metadata": {
        "id": "WGLRwsdGIdEd"
      },
      "source": [
        "As funções incorporadas ao NumPy podem ser facilmente chamadas em matrizes. A maioria das funções são aplicadas a um elemento de array (como a multiplicação escalar). Por exemplo, se chamarmos `log()` em um array, o logaritmo será obtido de cada elemento."
      ]
    },
    {
      "cell_type": "code",
      "execution_count": null,
      "metadata": {
        "id": "qQr2V2_0IdEd",
        "outputId": "b36e619c-dbfe-4ce8-8baa-482b3fb6a0d8",
        "colab": {
          "base_uri": "https://localhost:8080/"
        }
      },
      "outputs": [
        {
          "output_type": "execute_result",
          "data": {
            "text/plain": [
              "array([1.25276297, 1.60943791, 0.69314718, 2.07944154, 1.43508453])"
            ]
          },
          "metadata": {},
          "execution_count": 26
        }
      ],
      "source": [
        "np.log(data)"
      ]
    },
    {
      "cell_type": "markdown",
      "metadata": {
        "id": "RmKFghXVIdEd"
      },
      "source": [
        "Mean tira a média"
      ]
    },
    {
      "cell_type": "code",
      "execution_count": null,
      "metadata": {
        "id": "6WH6kG85IdEe",
        "outputId": "39ae6151-19e8-4118-c121-d7fe5819b71c",
        "colab": {
          "base_uri": "https://localhost:8080/"
        }
      },
      "outputs": [
        {
          "output_type": "execute_result",
          "data": {
            "text/plain": [
              "4.54"
            ]
          },
          "metadata": {},
          "execution_count": 27
        }
      ],
      "source": [
        "np.mean(data)"
      ]
    },
    {
      "cell_type": "markdown",
      "metadata": {
        "id": "3ejzxk64IdEe"
      },
      "source": [
        "Algumas funções podem ser chamadas direto no vetor, nem todas serão assim. O importante é ler a [documentação](http://numpy.org) e aprender. Com um pouco de prática você vai se acostumando."
      ]
    },
    {
      "cell_type": "code",
      "execution_count": null,
      "metadata": {
        "id": "mT8-oQJuIdEe",
        "outputId": "44ad3814-56ca-4ded-a9f6-3675438ac9b6",
        "colab": {
          "base_uri": "https://localhost:8080/"
        }
      },
      "outputs": [
        {
          "output_type": "execute_result",
          "data": {
            "text/plain": [
              "4.54"
            ]
          },
          "metadata": {},
          "execution_count": 28
        }
      ],
      "source": [
        "data.mean()"
      ]
    },
    {
      "cell_type": "markdown",
      "metadata": {
        "id": "NqX04lqAIdEe"
      },
      "source": [
        "Abaixo temos a mediana,"
      ]
    },
    {
      "cell_type": "code",
      "execution_count": null,
      "metadata": {
        "id": "RMh8K_4ZIdEf",
        "outputId": "a44facc5-d78f-43cc-b3e9-1ef0370f6d8d",
        "colab": {
          "base_uri": "https://localhost:8080/"
        }
      },
      "outputs": [
        {
          "output_type": "execute_result",
          "data": {
            "text/plain": [
              "4.2"
            ]
          },
          "metadata": {},
          "execution_count": 29
        }
      ],
      "source": [
        "np.median(data) # por exemplo, não existe data.median(). Faz sentido? Não. Mas é assim."
      ]
    },
    {
      "cell_type": "markdown",
      "metadata": {
        "id": "wyvnMovsIdEf"
      },
      "source": [
        "Em matrizes as funções operam em todos os elemntos."
      ]
    },
    {
      "cell_type": "code",
      "execution_count": null,
      "metadata": {
        "id": "G6sRG-jEIdEf",
        "outputId": "8b6a3818-7879-4187-a2bf-f927701fbcc0",
        "colab": {
          "base_uri": "https://localhost:8080/"
        }
      },
      "outputs": [
        {
          "output_type": "execute_result",
          "data": {
            "text/plain": [
              "0.08017056206396266"
            ]
          },
          "metadata": {},
          "execution_count": 30
        }
      ],
      "source": [
        "np.median(X)"
      ]
    },
    {
      "cell_type": "code",
      "execution_count": null,
      "metadata": {
        "id": "t64JDuUeIdEg",
        "outputId": "98629ef9-61fb-44cf-f5ae-b036cdd4fa2a",
        "colab": {
          "base_uri": "https://localhost:8080/"
        }
      },
      "outputs": [
        {
          "output_type": "execute_result",
          "data": {
            "text/plain": [
              "0.05321604657737256"
            ]
          },
          "metadata": {},
          "execution_count": 31
        }
      ],
      "source": [
        "X.mean()"
      ]
    },
    {
      "cell_type": "code",
      "execution_count": null,
      "metadata": {
        "id": "6YdiyBbwIdEg",
        "outputId": "d8580485-35c9-4aa4-86e2-349e08f216de",
        "colab": {
          "base_uri": "https://localhost:8080/"
        }
      },
      "outputs": [
        {
          "output_type": "execute_result",
          "data": {
            "text/plain": [
              "array([[2.25296186, 2.47571729, 2.14567139, 2.39839088, 2.19344003,\n",
              "        2.32975018, 2.34621166, 2.29783759],\n",
              "       [2.31078899, 2.40910744, 2.14382567, 2.46361495, 2.50651044,\n",
              "        2.21181407, 2.31096211, 2.21205293],\n",
              "       [2.21235063, 2.35929803, 2.24661015, 2.14363935, 2.32337921,\n",
              "        2.31171679, 2.19941101, 2.36423133],\n",
              "       [2.20457488, 2.39064717, 2.4764807 , 2.31035133, 2.20312689,\n",
              "        2.35903858, 2.32158909, 2.23284008],\n",
              "       [2.29755274, 2.27703971, 2.50238584, 2.18861067, 2.21489987,\n",
              "        2.11877529, 2.39309973, 2.3811049 ],\n",
              "       [2.27743583, 2.19722768, 2.43234073, 2.23282143, 2.3649792 ,\n",
              "        2.38866744, 2.20709833, 2.41654302],\n",
              "       [2.51452558, 2.35307201, 2.39681417, 1.8755785 , 2.26403608,\n",
              "        2.2077511 , 2.33322075, 2.31758246],\n",
              "       [2.20866523, 2.35430876, 2.24546969, 2.15565753, 2.39249532,\n",
              "        2.28091445, 2.28511872, 2.13537481],\n",
              "       [2.35493777, 2.35845974, 2.47731344, 2.30828603, 2.30203193,\n",
              "        2.41981882, 2.44890484, 2.17290073]])"
            ]
          },
          "metadata": {},
          "execution_count": 32
        }
      ],
      "source": [
        "np.log(X + 10)"
      ]
    },
    {
      "cell_type": "markdown",
      "metadata": {
        "id": "gLkiC0ejIdEg"
      },
      "source": [
        "Porém, caso você queira a media de linhas ou colunas use `axis`. Antes, vamos ver o tamanho do vetor."
      ]
    },
    {
      "cell_type": "code",
      "execution_count": null,
      "metadata": {
        "id": "YKyp0jQ2IdEg",
        "outputId": "522a48f3-f17b-4cbe-a92d-ee646b8f7042",
        "colab": {
          "base_uri": "https://localhost:8080/"
        }
      },
      "outputs": [
        {
          "output_type": "execute_result",
          "data": {
            "text/plain": [
              "(9, 8)"
            ]
          },
          "metadata": {},
          "execution_count": 33
        }
      ],
      "source": [
        "X.shape"
      ]
    },
    {
      "cell_type": "code",
      "execution_count": null,
      "metadata": {
        "id": "yLvKsAdmIdEg",
        "outputId": "e8b240a2-6f2a-403b-f34c-5b81a63b905a",
        "colab": {
          "base_uri": "https://localhost:8080/"
        }
      },
      "outputs": [
        {
          "output_type": "execute_result",
          "data": {
            "text/plain": [
              "array([-0.05499548,  0.54327531,  0.48600252, -0.57496397,  0.0947612 ,\n",
              "       -0.06391795,  0.16576586, -0.17019913])"
            ]
          },
          "metadata": {},
          "execution_count": 34
        }
      ],
      "source": [
        "np.mean(X, axis=0) # média das colunas. como temos 8 colunas, temos 8 elementos."
      ]
    },
    {
      "cell_type": "code",
      "execution_count": null,
      "metadata": {
        "id": "aqHXkGQqIdEh",
        "outputId": "91087279-5fc1-4037-f0ac-da5fa34750ad",
        "colab": {
          "base_uri": "https://localhost:8080/"
        }
      },
      "outputs": [
        {
          "output_type": "execute_result",
          "data": {
            "text/plain": [
              "(8,)"
            ]
          },
          "metadata": {},
          "execution_count": 35
        }
      ],
      "source": [
        "np.mean(X, axis=0).shape"
      ]
    },
    {
      "cell_type": "code",
      "execution_count": null,
      "metadata": {
        "id": "mgBGUiTRIdEh",
        "outputId": "eb42a946-300a-4f16-d4db-ab2f8c244933",
        "colab": {
          "base_uri": "https://localhost:8080/"
        }
      },
      "outputs": [
        {
          "output_type": "execute_result",
          "data": {
            "text/plain": [
              "array([ 0.07491   ,  0.26231576, -0.29198046,  0.13955735,  0.0097052 ,\n",
              "        0.16280582, -0.05367913, -0.40921561,  0.58452547])"
            ]
          },
          "metadata": {},
          "execution_count": 36
        }
      ],
      "source": [
        "np.mean(X, axis=1) # média das linhas"
      ]
    },
    {
      "cell_type": "code",
      "execution_count": null,
      "metadata": {
        "id": "QTZqlCJ4IdEh",
        "outputId": "5af615c4-5ac0-4f6f-8efc-f9ab90e9f732",
        "colab": {
          "base_uri": "https://localhost:8080/"
        }
      },
      "outputs": [
        {
          "output_type": "execute_result",
          "data": {
            "text/plain": [
              "(9,)"
            ]
          },
          "metadata": {},
          "execution_count": 37
        }
      ],
      "source": [
        "np.mean(X, axis=1).shape"
      ]
    },
    {
      "cell_type": "markdown",
      "metadata": {
        "id": "ssOv0JnVIdEh"
      },
      "source": [
        "Lembre-se que eixo 0 é coluna. Eixo 1 é linas."
      ]
    },
    {
      "cell_type": "markdown",
      "metadata": {
        "id": "Lor6a7jFIdEh"
      },
      "source": [
        "### Multiplicação de Matrizes"
      ]
    },
    {
      "cell_type": "markdown",
      "metadata": {
        "id": "AFOgWezfIdEh"
      },
      "source": [
        "Para transpor uma matriz fazemos uso de .T"
      ]
    },
    {
      "cell_type": "code",
      "execution_count": null,
      "metadata": {
        "id": "rIWOtFj3IdEh",
        "outputId": "bbe81000-31df-4190-a1f6-2f9038fcc9ed",
        "colab": {
          "base_uri": "https://localhost:8080/"
        }
      },
      "outputs": [
        {
          "output_type": "execute_result",
          "data": {
            "text/plain": [
              "(9, 8)"
            ]
          },
          "metadata": {},
          "execution_count": 38
        }
      ],
      "source": [
        "X.shape"
      ]
    },
    {
      "cell_type": "code",
      "execution_count": null,
      "metadata": {
        "id": "-SzS0tsxIdEh",
        "outputId": "6b4a5fae-2401-4337-99c3-491d066f90c8",
        "colab": {
          "base_uri": "https://localhost:8080/"
        }
      },
      "outputs": [
        {
          "output_type": "execute_result",
          "data": {
            "text/plain": [
              "(8, 9)"
            ]
          },
          "metadata": {},
          "execution_count": 39
        }
      ],
      "source": [
        "X.T.shape"
      ]
    },
    {
      "cell_type": "code",
      "execution_count": null,
      "metadata": {
        "id": "q2SwREazIdEi",
        "outputId": "9a54d74a-6c58-482d-e349-b18bf68191c7",
        "colab": {
          "base_uri": "https://localhost:8080/"
        }
      },
      "outputs": [
        {
          "output_type": "execute_result",
          "data": {
            "text/plain": [
              "array([[-0.48412121,  0.0823764 , -0.86283075, -0.93360353, -0.05019709,\n",
              "        -0.24835654,  2.36074319, -0.89644286,  0.53747308],\n",
              "       [ 1.89023282,  1.12402785,  0.58351953,  0.92055908, -0.2522186 ,\n",
              "        -0.99997204,  0.517831  ,  0.53084702,  0.57465116],\n",
              "       [-1.45222177, -1.46798405, -0.54437176,  1.89931339,  2.21159409,\n",
              "         1.38550131,  0.98811431, -0.55514935,  1.90922654],\n",
              "       [ 1.00545304,  1.74720044, -1.46957357,  0.07796473, -1.07719226,\n",
              "        -0.67385799, -3.47540751, -1.36643482,  0.05717219],\n",
              "       [-1.03399653,  2.26206604,  0.21011821, -0.94672213, -0.83950815,\n",
              "         0.64381741, -0.37815458,  0.94076063, -0.00553008],\n",
              "       [ 0.27537426, -0.86773209,  0.09173515,  0.58077404, -1.67905948,\n",
              "         0.89896071, -0.9047609 , -0.21437519,  1.24382197],\n",
              "       [ 0.44592195,  0.08412199, -0.98030062,  0.19185721,  0.94737533,\n",
              "        -0.91069604,  0.31109758, -0.17314722,  1.57566259],\n",
              "       [-0.04736256, -0.86555049,  0.63586016, -0.67368398,  0.81684778,\n",
              "         1.20704977,  0.1511039 , -1.53978308, -1.21627365]])"
            ]
          },
          "metadata": {},
          "execution_count": 40
        }
      ],
      "source": [
        "X.T"
      ]
    },
    {
      "cell_type": "markdown",
      "metadata": {
        "id": "p9g2HTjvIdEi"
      },
      "source": [
        "Para multiplicar matrizes, do ponto de visto de multiplicação matricial como definido na álgebra linear, fazemos uso de `@`."
      ]
    },
    {
      "cell_type": "code",
      "execution_count": null,
      "metadata": {
        "id": "gQZNLA3BIdEi",
        "outputId": "a4625e0c-91f7-4b88-d56e-8d5b5da6e43f",
        "colab": {
          "base_uri": "https://localhost:8080/"
        }
      },
      "outputs": [
        {
          "output_type": "execute_result",
          "data": {
            "text/plain": [
              "array([[ 8.27330675e+00,  3.47394757e+00,  1.74410223e-01,\n",
              "         7.68512224e-01, -3.95779551e+00, -5.34095566e+00,\n",
              "        -4.81995363e+00, -1.66333319e-01, -7.80651024e-01],\n",
              "       [ 3.47394757e+00,  1.31040669e+01, -1.42082938e+00,\n",
              "        -3.74037196e+00, -6.48566842e+00, -4.80078558e+00,\n",
              "        -6.92118207e+00,  2.58263342e+00, -1.91914335e+00],\n",
              "       [ 1.74410223e-01, -1.42082938e+00,  4.95883148e+00,\n",
              "        -5.67894136e-01, -4.64515366e-01,  1.74485735e+00,\n",
              "         2.46336442e+00,  2.76217701e+00, -3.45683862e+00],\n",
              "       [ 7.68512224e-01, -3.74037196e+00, -5.67894136e-01,\n",
              "         7.05675498e+00,  3.38229963e+00,  8.14980406e-01,\n",
              "        -3.31088915e-01,  1.53627139e-01,  5.50719176e+00],\n",
              "       [-3.95779551e+00, -6.48566842e+00, -4.64515366e-01,\n",
              "         3.38229963e+00,  1.12064005e+01,  2.12802593e+00,\n",
              "         7.93464704e+00, -1.69637401e+00,  2.40435629e+00],\n",
              "       [-5.34095566e+00, -4.80078558e+00,  1.74485735e+00,\n",
              "         8.14980406e-01,  2.12802593e+00,  6.94429115e+00,\n",
              "         1.44910985e+00, -1.44451900e+00,  1.10124115e-01],\n",
              "       [-4.81995363e+00, -6.92118207e+00,  2.46336442e+00,\n",
              "        -3.31088915e-01,  7.93464704e+00,  1.44910985e+00,\n",
              "         1.99772919e+01,  1.91065691e+00,  2.43737634e+00],\n",
              "       [-1.66333319e-01,  2.58263342e+00,  2.76217701e+00,\n",
              "         1.53627139e-01, -1.69637401e+00, -1.44451900e+00,\n",
              "         1.91065691e+00,  6.59264247e+00,  1.33389255e-02],\n",
              "       [-7.80651024e-01, -1.91914335e+00, -3.45683862e+00,\n",
              "         5.50719176e+00,  2.40435629e+00,  1.10124115e-01,\n",
              "         2.43737634e+00,  1.33389255e-02,  9.77667374e+00]])"
            ]
          },
          "metadata": {},
          "execution_count": 41
        }
      ],
      "source": [
        "X @ X.T"
      ]
    },
    {
      "cell_type": "markdown",
      "metadata": {
        "id": "G3d8Sa-KIdEi"
      },
      "source": [
        "O uso de `*` realiza uma operação ponto a ponto"
      ]
    },
    {
      "cell_type": "code",
      "execution_count": null,
      "metadata": {
        "id": "ydTnzllEIdEi",
        "outputId": "248d96e1-95e2-4621-deab-9cf9d3aae35c",
        "colab": {
          "base_uri": "https://localhost:8080/"
        }
      },
      "outputs": [
        {
          "output_type": "execute_result",
          "data": {
            "text/plain": [
              "array([[2.34373342e-01, 3.57298011e+00, 2.10894808e+00, 1.01093582e+00,\n",
              "        1.06914882e+00, 7.58309842e-02, 1.98846383e-01, 2.24321173e-03],\n",
              "       [6.78587077e-03, 1.26343861e+00, 2.15497718e+00, 3.05270937e+00,\n",
              "        5.11694278e+00, 7.52958978e-01, 7.07650880e-03, 7.49177654e-01],\n",
              "       [7.44476909e-01, 3.40495044e-01, 2.96340613e-01, 2.15964647e+00,\n",
              "        4.41496613e-02, 8.41533739e-03, 9.60989304e-01, 4.04318142e-01],\n",
              "       [8.71615555e-01, 8.47429015e-01, 3.60739134e+00, 6.07849869e-03,\n",
              "        8.96282797e-01, 3.37298484e-01, 3.68091878e-02, 4.53850099e-01],\n",
              "       [2.51974798e-03, 6.36142235e-02, 4.89114840e+00, 1.16034316e+00,\n",
              "        7.04773942e-01, 2.81924073e+00, 8.97520015e-01, 6.67240294e-01],\n",
              "       [6.16809694e-02, 9.99944073e-01, 1.91961388e+00, 4.54084589e-01,\n",
              "        4.14500853e-01, 8.08130364e-01, 8.29367274e-01, 1.45696914e+00],\n",
              "       [5.57310842e+00, 2.68148941e-01, 9.76369889e-01, 1.20784574e+01,\n",
              "        1.43000887e-01, 8.18592286e-01, 9.67817031e-02, 2.28323883e-02],\n",
              "       [8.03609810e-01, 2.81798562e-01, 3.08190806e-01, 1.86714412e+00,\n",
              "        8.85030567e-01, 4.59567229e-02, 2.99799587e-02, 2.37093193e+00],\n",
              "       [2.88877309e-01, 3.30223954e-01, 3.64514597e+00, 3.26865977e-03,\n",
              "        3.05818153e-05, 1.54709310e+00, 2.48271258e+00, 1.47932158e+00]])"
            ]
          },
          "metadata": {},
          "execution_count": 42
        }
      ],
      "source": [
        "X * X"
      ]
    },
    {
      "cell_type": "markdown",
      "metadata": {
        "id": "T1Zx-UEbIdEj"
      },
      "source": [
        "Observe a diferença de tamanhos"
      ]
    },
    {
      "cell_type": "code",
      "execution_count": null,
      "metadata": {
        "id": "uR7SQsDOIdEj",
        "outputId": "24b3f5e6-237f-47f7-a1ed-95e055e42336",
        "colab": {
          "base_uri": "https://localhost:8080/"
        }
      },
      "outputs": [
        {
          "output_type": "execute_result",
          "data": {
            "text/plain": [
              "(9, 8)"
            ]
          },
          "metadata": {},
          "execution_count": 43
        }
      ],
      "source": [
        "(X * X).shape"
      ]
    },
    {
      "cell_type": "code",
      "execution_count": null,
      "metadata": {
        "id": "sh1WVDe9IdEj",
        "outputId": "6bf423fa-92ee-4632-bd24-35e6bb09c8cd",
        "colab": {
          "base_uri": "https://localhost:8080/"
        }
      },
      "outputs": [
        {
          "output_type": "execute_result",
          "data": {
            "text/plain": [
              "(9, 9)"
            ]
          },
          "metadata": {},
          "execution_count": 44
        }
      ],
      "source": [
        "(X @ X.T).shape"
      ]
    },
    {
      "cell_type": "markdown",
      "metadata": {
        "id": "BMZNV1g2IdEj"
      },
      "source": [
        "**Pense:** Para o nosso `X` de tamanho `(9, 8)`, qual o motivo de `X * X.T` não funcionar? Qual o motivo de `X @ X` não funcionar?"
      ]
    },
    {
      "cell_type": "markdown",
      "metadata": {
        "id": "T-KjC9IJIdEj"
      },
      "source": [
        "## Correção Automática\n",
        "\n",
        "Nossa correção automática depende das funções abaixo. Tais funções comparam valores que serão computados pelo seu código com uma saída esperada. Normalmente, vocês não fazer uso de tais funções em notebooks como este. Porém, elas são chave em ambientes de testes automáticos (fora do nosso escopo).\n",
        "\n",
        "Observe como algumas funções comparam valores e outras comparam vetores. Além do mais, temos funções para comparar dentro de algumas casas decimais."
      ]
    },
    {
      "cell_type": "code",
      "execution_count": null,
      "metadata": {
        "id": "QWHKkCDHIdEj"
      },
      "outputs": [],
      "source": [
        "from numpy.testing import assert_almost_equal\n",
        "from numpy.testing import assert_equal\n",
        "\n",
        "from numpy.testing import assert_array_almost_equal\n",
        "from numpy.testing import assert_array_equal"
      ]
    },
    {
      "cell_type": "code",
      "execution_count": null,
      "metadata": {
        "id": "H3YkF4WcIdEj"
      },
      "outputs": [],
      "source": [
        "# caso você mude um dos valores vamos receber um erro!\n",
        "assert_array_equal(2, 2)\n",
        "\n",
        "# caso você mude um dos valores vamos receber um erro!\n",
        "assert_array_equal([1, 2], [1, 2])\n",
        "\n",
        "# caso você mude um dos valores vamos receber um erro!\n",
        "assert_almost_equal(3.1415, 3.15, 1)"
      ]
    },
    {
      "cell_type": "markdown",
      "metadata": {
        "id": "ajDI3UoOIdEk"
      },
      "source": [
        "Caso você mude um dos valores abaixo vamos receber um erro! Como o abaixo.\n",
        "\n",
        "```\n",
        "-----------------------------------------------------------------------\n",
        "AssertionError                        Traceback (most recent call last)\n",
        "<ipython-input-10-396672d880f2> in <module>\n",
        "----> 1 assert_equal(2, 3) # caso você mude um dos valores vamos receber um erro!\n",
        "\n",
        "~/miniconda3/lib/python3.7/site-packages/numpy/testing/_private/utils.py in assert_equal(actual, desired, err_msg, verbose)\n",
        "    413         # Explicitly use __eq__ for comparison, gh-2552\n",
        "    414         if not (desired == actual):\n",
        "--> 415             raise AssertionError(msg)\n",
        "    416\n",
        "    417     except (DeprecationWarning, FutureWarning) as e:\n",
        "\n",
        "AssertionError:\n",
        "Items are not equal:\n",
        " ACTUAL: 2\n",
        " DESIRED: 3\n",
        " ```"
      ]
    },
    {
      "cell_type": "markdown",
      "metadata": {
        "id": "AvhYvG8JIdEk"
      },
      "source": [
        "É essencial que todo seu código execute sem erros! Portanto, antes de submeter clique em `Kernel` no menu acima. Depois clique em `Restart & Execute All.`\n",
        "\n",
        "**Garanta que o notebook executa até o fim!** Isto é, sem erros como o acima."
      ]
    },
    {
      "cell_type": "markdown",
      "metadata": {
        "id": "XVVUzv_RIdEk"
      },
      "source": [
        "## Funções em Python"
      ]
    },
    {
      "cell_type": "markdown",
      "metadata": {
        "id": "YvtTZEv0IdEk"
      },
      "source": [
        "Para criar uma função em Python fazemos uso da palavra-chave:\n",
        "```python\n",
        "def\n",
        "```\n",
        "\n",
        "Todos nossos exercícios farão uso de funções. **Mantenha a assinatura das funções exatamente como requisitado, a correção automática depende disso.** Abaixo, temos um exempo de uma função que imprime algo na tela!"
      ]
    },
    {
      "cell_type": "code",
      "execution_count": null,
      "metadata": {
        "id": "5FuzF8vSIdEk"
      },
      "outputs": [],
      "source": [
        "def print_something(txt):\n",
        "    print(f'Voce passou o argumento: {txt}')"
      ]
    },
    {
      "cell_type": "code",
      "execution_count": null,
      "metadata": {
        "id": "oOdeRTf2IdEk",
        "outputId": "242e9f19-e44a-469f-afcc-11943e38c275",
        "colab": {
          "base_uri": "https://localhost:8080/"
        }
      },
      "outputs": [
        {
          "output_type": "stream",
          "name": "stdout",
          "text": [
            "Voce passou o argumento: DCC 212\n"
          ]
        }
      ],
      "source": [
        "print_something('DCC 212')"
      ]
    },
    {
      "cell_type": "markdown",
      "metadata": {
        "id": "lLg25ZTwIdEl"
      },
      "source": [
        "Podemos também dizer o tipo do argumento, porém faremos pouco uso disto em ICD."
      ]
    },
    {
      "cell_type": "code",
      "execution_count": null,
      "metadata": {
        "id": "O4IgP3CqIdEl"
      },
      "outputs": [],
      "source": [
        "def print_something(txt: str):\n",
        "    print(f'Voce passou o argumento: {txt}')"
      ]
    },
    {
      "cell_type": "code",
      "execution_count": null,
      "metadata": {
        "id": "61Y-yV93IdEl",
        "outputId": "026d9833-39da-4fa0-9d06-ae812dcdec43",
        "colab": {
          "base_uri": "https://localhost:8080/"
        }
      },
      "outputs": [
        {
          "output_type": "stream",
          "name": "stdout",
          "text": [
            "Voce passou o argumento: DCC 212\n"
          ]
        }
      ],
      "source": [
        "print_something('DCC 212')"
      ]
    },
    {
      "cell_type": "markdown",
      "metadata": {
        "id": "R3uqBAzWIdEl"
      },
      "source": [
        "Abaixo temos uma função que soma, a soma, dois vetores"
      ]
    },
    {
      "cell_type": "code",
      "execution_count": null,
      "metadata": {
        "id": "9fXEki80IdEl"
      },
      "outputs": [],
      "source": [
        "def sum_of_sum_vectors(array_1, array_2):\n",
        "    return (array_1 + array_2).sum()"
      ]
    },
    {
      "cell_type": "code",
      "execution_count": null,
      "metadata": {
        "id": "U-BVjgOQIdEm"
      },
      "outputs": [],
      "source": [
        "x = np.array([1, 2])\n",
        "y = np.array([1, 2])"
      ]
    },
    {
      "cell_type": "code",
      "execution_count": null,
      "metadata": {
        "id": "7-vaP5B0IdEm",
        "outputId": "82b7ab9c-25e3-49db-f537-28b21bf2b416",
        "colab": {
          "base_uri": "https://localhost:8080/"
        }
      },
      "outputs": [
        {
          "output_type": "execute_result",
          "data": {
            "text/plain": [
              "6"
            ]
          },
          "metadata": {},
          "execution_count": 53
        }
      ],
      "source": [
        "sum_of_sum_vectors(x, y)"
      ]
    },
    {
      "cell_type": "markdown",
      "metadata": {
        "id": "2AcHvaL7IdEm"
      },
      "source": [
        "Abaixo temos um teste, tais testes vão avaliar o seu código. Nem todos estão aqui no notebook!"
      ]
    },
    {
      "cell_type": "code",
      "execution_count": null,
      "metadata": {
        "id": "un-gewrrIdEm"
      },
      "outputs": [],
      "source": [
        "assert_equal(6, sum_of_sum_vectors(x, y))"
      ]
    },
    {
      "cell_type": "markdown",
      "metadata": {
        "id": "Mdr0dmikIdEm"
      },
      "source": [
        "## Exercício 01\n",
        "\n",
        "Inicialmente, crie uma função que recebe duas listas de números, converte as duas para um vetor numpy usando `np.array` e retorna o produto interno das duas listas.\n",
        "\n",
        "__Dicas:__  \n",
        "1. Tente fazer um código sem nenhum **for**! Ou seja, numpy permite operações em vetores e matrizes, onde: `np.array([1, 2]) + np.array([2, 2]) = np.array([3, 4])`.\n",
        "\n",
        "__Funções:__\n",
        "1. `np.sum(array)` soma os elementos do array. `array.sum()` tem o mesmo efeito!"
      ]
    },
    {
      "cell_type": "code",
      "execution_count": null,
      "metadata": {
        "id": "CtQQ5b24IdEm"
      },
      "outputs": [],
      "source": [
        "def inner(array_1, array_2):\n",
        "    npArray1 = np.array(array_1)\n",
        "    npArray2 = np.array(array_2)\n",
        "\n",
        "    return np.inner(npArray1, npArray2)"
      ]
    },
    {
      "cell_type": "code",
      "execution_count": null,
      "metadata": {
        "id": "vkcogp11IdEn"
      },
      "outputs": [],
      "source": [
        "x1 = np.array([2, 4, 8])\n",
        "x2 = np.array([10, 100, 1000])\n",
        "assert_equal(20 + 400 + 8000, inner(x1, x2))"
      ]
    },
    {
      "cell_type": "markdown",
      "metadata": {
        "id": "hA4JLpVvIdEn"
      },
      "source": [
        "## Exercício 02\n",
        "\n",
        "Implemente uma função utilizando numpy que recebe duas matrizes, multiplica as duas e retorne o valor médio das células da multiplicação. Por exemplo, ao multiplicar:\n",
        "\n",
        "```\n",
        "[1 2]\n",
        "[3 4]\n",
        "\n",
        "com\n",
        "\n",
        "[2 1]\n",
        "[1 2]\n",
        "\n",
        "temos\n",
        "\n",
        "[4  5 ]\n",
        "[10 11]\n",
        "\n",
        "onde a média de [4, 5, 10, 11] é\n",
        "\n",
        "7.5, sua resposta final!\n",
        "```\n",
        "\n",
        "\n",
        "__Dicas:__  \n",
        "1. Use o operador @ para multiplicar matrizes!"
      ]
    },
    {
      "cell_type": "code",
      "execution_count": null,
      "metadata": {
        "id": "1Ge_VBtoIdEn"
      },
      "outputs": [],
      "source": [
        "def medmult(X_1, X_2):\n",
        "    produto = X_1 @ X_2\n",
        "    return np.mean(produto)"
      ]
    },
    {
      "cell_type": "code",
      "execution_count": null,
      "metadata": {
        "id": "S_8YPqdFIdEo"
      },
      "outputs": [],
      "source": [
        "X = np.array([1, 2, 3, 4]).reshape(2, 2)\n",
        "Y = np.array([2, 1, 1, 2]).reshape(2, 2)\n",
        "assert_equal(7.5, medmult(X, Y))"
      ]
    },
    {
      "cell_type": "code",
      "execution_count": null,
      "metadata": {
        "id": "WXOLz3-jIdEo"
      },
      "outputs": [],
      "source": []
    }
  ],
  "metadata": {
    "kernelspec": {
      "display_name": "Python 3 (ipykernel)",
      "language": "python",
      "name": "python3"
    },
    "language_info": {
      "codemirror_mode": {
        "name": "ipython",
        "version": 3
      },
      "file_extension": ".py",
      "mimetype": "text/x-python",
      "name": "python",
      "nbconvert_exporter": "python",
      "pygments_lexer": "ipython3",
      "version": "3.11.3"
    },
    "colab": {
      "provenance": []
    }
  },
  "nbformat": 4,
  "nbformat_minor": 0
}
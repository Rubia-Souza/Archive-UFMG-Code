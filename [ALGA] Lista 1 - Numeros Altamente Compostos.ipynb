{
 "cells": [
  {
   "cell_type": "code",
   "execution_count": 39,
   "id": "9fb3b69e",
   "metadata": {},
   "outputs": [],
   "source": [
    "def getQuantidadeDivisores(valor : int) -> int:\n",
    "    quantidadeDivisores : int = 1\n",
    "    \n",
    "    for i in range(1, valor):\n",
    "        if(valor % i == 0):\n",
    "            quantidadeDivisores = quantidadeDivisores + 1\n",
    "    \n",
    "    return quantidadeDivisores\n",
    "\n",
    "def ehAltamenteComposto(valor : int) -> bool:\n",
    "    quantidadeDivisoresValor : int = getQuantidadeDivisores(valor)\n",
    "    \n",
    "    for i in range(1, valor):\n",
    "        quantidadeDivisoresI : int = getQuantidadeDivisores(i)\n",
    "        \n",
    "        if(quantidadeDivisoresI >= quantidadeDivisoresValor):\n",
    "            return False\n",
    "    \n",
    "    return True\n",
    "\n",
    "def ehAltamenteCompostoMemorization(valor : int, memorization) -> bool:\n",
    "    quantidadeDivisoresValor : int = getQuantidadeDivisores(valor)\n",
    "    \n",
    "    for i in range(1, valor):\n",
    "        quantidadeDivisoresI : int = 0\n",
    "        if(memorization[i] != None):\n",
    "            quantidadeDivisoresI = memorization[i]\n",
    "        else:\n",
    "            quantidadeDivisoresI = getQuantidadeDivisores(i)\n",
    "            memorization[i] = quantidadeDivisoresI\n",
    "        \n",
    "        if(quantidadeDivisoresI >= quantidadeDivisoresValor):\n",
    "            return False\n",
    "    \n",
    "    return True\n",
    "\n",
    "def getListaNumerosAltamenteCompostos(valor : int):\n",
    "    memorization = [None] * valor\n",
    "    numerosAltamenteCompostos = []\n",
    "    \n",
    "    for i in range(1, valor):\n",
    "        if(ehAltamenteCompostoMemorization(i, memorization)):\n",
    "            numerosAltamenteCompostos.append(i)\n",
    "    \n",
    "    return numerosAltamenteCompostos"
   ]
  },
  {
   "cell_type": "code",
   "execution_count": 40,
   "id": "30752111",
   "metadata": {},
   "outputs": [
    {
     "name": "stdout",
     "output_type": "stream",
     "text": [
      "5000\n",
      "Números altamente compostos menores que 5000 são:\n",
      "[1, 2, 4, 6, 12, 24, 36, 48, 60, 120, 180, 240, 360, 720, 840, 1260, 1680, 2520]\n"
     ]
    }
   ],
   "source": [
    "valorTeste : int = int(input())\n",
    "\n",
    "numerosAltamenteCompostos = getListaNumerosAltamenteCompostos(valorTeste)\n",
    "    \n",
    "print(f\"Números altamente compostos menores que {valorTeste} são:\")\n",
    "print(numerosAltamenteCompostos)"
   ]
  },
  {
   "cell_type": "code",
   "execution_count": null,
   "id": "9f9150e2",
   "metadata": {},
   "outputs": [],
   "source": []
  }
 ],
 "metadata": {
  "kernelspec": {
   "display_name": "Python 3 (ipykernel)",
   "language": "python",
   "name": "python3"
  },
  "language_info": {
   "codemirror_mode": {
    "name": "ipython",
    "version": 3
   },
   "file_extension": ".py",
   "mimetype": "text/x-python",
   "name": "python",
   "nbconvert_exporter": "python",
   "pygments_lexer": "ipython3",
   "version": "3.11.4"
  }
 },
 "nbformat": 4,
 "nbformat_minor": 5
}
